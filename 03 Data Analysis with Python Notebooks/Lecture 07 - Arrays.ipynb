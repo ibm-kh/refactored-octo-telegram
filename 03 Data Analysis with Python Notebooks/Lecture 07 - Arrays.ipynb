{
 "cells": [
  {
   "cell_type": "code",
   "execution_count": 1,
   "metadata": {},
   "outputs": [],
   "source": [
    "import numpy as np"
   ]
  },
  {
   "cell_type": "code",
   "execution_count": 2,
   "metadata": {},
   "outputs": [],
   "source": [
    "my_list1 = [1, 2, 3, 4]"
   ]
  },
  {
   "cell_type": "code",
   "execution_count": 3,
   "metadata": {},
   "outputs": [],
   "source": [
    "my_array1 = np.array(my_list1)"
   ]
  },
  {
   "cell_type": "code",
   "execution_count": 4,
   "metadata": {},
   "outputs": [
    {
     "data": {
      "text/plain": [
       "array([1, 2, 3, 4])"
      ]
     },
     "execution_count": 4,
     "metadata": {},
     "output_type": "execute_result"
    }
   ],
   "source": [
    "my_array1"
   ]
  },
  {
   "cell_type": "code",
   "execution_count": 5,
   "metadata": {},
   "outputs": [],
   "source": [
    " my_list2 = [11, 22, 33, 44]"
   ]
  },
  {
   "cell_type": "code",
   "execution_count": 6,
   "metadata": {},
   "outputs": [],
   "source": [
    "my_lists = [my_list1,my_list2]"
   ]
  },
  {
   "cell_type": "code",
   "execution_count": 7,
   "metadata": {},
   "outputs": [],
   "source": [
    "my_array2 = np.array(my_lists)"
   ]
  },
  {
   "cell_type": "code",
   "execution_count": 8,
   "metadata": {},
   "outputs": [
    {
     "data": {
      "text/plain": [
       "array([[ 1,  2,  3,  4],\n",
       "       [11, 22, 33, 44]])"
      ]
     },
     "execution_count": 8,
     "metadata": {},
     "output_type": "execute_result"
    }
   ],
   "source": [
    "my_array2"
   ]
  },
  {
   "cell_type": "code",
   "execution_count": 9,
   "metadata": {},
   "outputs": [
    {
     "data": {
      "text/plain": [
       "(2, 4)"
      ]
     },
     "execution_count": 9,
     "metadata": {},
     "output_type": "execute_result"
    }
   ],
   "source": [
    "my_array2.shape"
   ]
  },
  {
   "cell_type": "code",
   "execution_count": 10,
   "metadata": {},
   "outputs": [
    {
     "data": {
      "text/plain": [
       "dtype('int32')"
      ]
     },
     "execution_count": 10,
     "metadata": {},
     "output_type": "execute_result"
    }
   ],
   "source": [
    "my_array2.dtype"
   ]
  },
  {
   "cell_type": "code",
   "execution_count": 11,
   "metadata": {},
   "outputs": [
    {
     "data": {
      "text/plain": [
       "array([0., 0., 0., 0., 0.])"
      ]
     },
     "execution_count": 11,
     "metadata": {},
     "output_type": "execute_result"
    }
   ],
   "source": [
    "np.zeros(5)"
   ]
  },
  {
   "cell_type": "code",
   "execution_count": 12,
   "metadata": {},
   "outputs": [],
   "source": [
    "my_zeros_array = np.zeros(5)"
   ]
  },
  {
   "cell_type": "code",
   "execution_count": 13,
   "metadata": {},
   "outputs": [
    {
     "data": {
      "text/plain": [
       "dtype('float64')"
      ]
     },
     "execution_count": 13,
     "metadata": {},
     "output_type": "execute_result"
    }
   ],
   "source": [
    "my_zeros_array.dtype"
   ]
  },
  {
   "cell_type": "code",
   "execution_count": 14,
   "metadata": {},
   "outputs": [
    {
     "data": {
      "text/plain": [
       "array([[1., 1., 1., 1., 1.],\n",
       "       [1., 1., 1., 1., 1.],\n",
       "       [1., 1., 1., 1., 1.],\n",
       "       [1., 1., 1., 1., 1.],\n",
       "       [1., 1., 1., 1., 1.]])"
      ]
     },
     "execution_count": 14,
     "metadata": {},
     "output_type": "execute_result"
    }
   ],
   "source": [
    "np.ones([5,5])"
   ]
  },
  {
   "cell_type": "code",
   "execution_count": 15,
   "metadata": {},
   "outputs": [],
   "source": [
    "ones = np.ones([5,5])"
   ]
  },
  {
   "cell_type": "code",
   "execution_count": 18,
   "metadata": {},
   "outputs": [
    {
     "data": {
      "text/plain": [
       "(5, 5)"
      ]
     },
     "execution_count": 18,
     "metadata": {},
     "output_type": "execute_result"
    }
   ],
   "source": [
    "ones.shape"
   ]
  },
  {
   "cell_type": "code",
   "execution_count": 21,
   "metadata": {},
   "outputs": [
    {
     "data": {
      "text/plain": [
       "array([0., 0., 0., 0., 0.])"
      ]
     },
     "execution_count": 21,
     "metadata": {},
     "output_type": "execute_result"
    }
   ],
   "source": [
    "np.empty(5)"
   ]
  },
  {
   "cell_type": "code",
   "execution_count": 22,
   "metadata": {},
   "outputs": [
    {
     "data": {
      "text/plain": [
       "array([[1., 0., 0., 0., 0.],\n",
       "       [0., 1., 0., 0., 0.],\n",
       "       [0., 0., 1., 0., 0.],\n",
       "       [0., 0., 0., 1., 0.],\n",
       "       [0., 0., 0., 0., 1.]])"
      ]
     },
     "execution_count": 22,
     "metadata": {},
     "output_type": "execute_result"
    }
   ],
   "source": [
    "np.eye(5)"
   ]
  },
  {
   "cell_type": "code",
   "execution_count": 23,
   "metadata": {},
   "outputs": [
    {
     "data": {
      "text/plain": [
       "array([0, 1, 2, 3, 4])"
      ]
     },
     "execution_count": 23,
     "metadata": {},
     "output_type": "execute_result"
    }
   ],
   "source": [
    "np.arange(5)"
   ]
  },
  {
   "cell_type": "code",
   "execution_count": 27,
   "metadata": {},
   "outputs": [
    {
     "data": {
      "text/plain": [
       "array([   2,    5,    8,   11,   14,   17,   20,   23,   26,   29,   32,\n",
       "         35,   38,   41,   44,   47,   50,   53,   56,   59,   62,   65,\n",
       "         68,   71,   74,   77,   80,   83,   86,   89,   92,   95,   98,\n",
       "        101,  104,  107,  110,  113,  116,  119,  122,  125,  128,  131,\n",
       "        134,  137,  140,  143,  146,  149,  152,  155,  158,  161,  164,\n",
       "        167,  170,  173,  176,  179,  182,  185,  188,  191,  194,  197,\n",
       "        200,  203,  206,  209,  212,  215,  218,  221,  224,  227,  230,\n",
       "        233,  236,  239,  242,  245,  248,  251,  254,  257,  260,  263,\n",
       "        266,  269,  272,  275,  278,  281,  284,  287,  290,  293,  296,\n",
       "        299,  302,  305,  308,  311,  314,  317,  320,  323,  326,  329,\n",
       "        332,  335,  338,  341,  344,  347,  350,  353,  356,  359,  362,\n",
       "        365,  368,  371,  374,  377,  380,  383,  386,  389,  392,  395,\n",
       "        398,  401,  404,  407,  410,  413,  416,  419,  422,  425,  428,\n",
       "        431,  434,  437,  440,  443,  446,  449,  452,  455,  458,  461,\n",
       "        464,  467,  470,  473,  476,  479,  482,  485,  488,  491,  494,\n",
       "        497,  500,  503,  506,  509,  512,  515,  518,  521,  524,  527,\n",
       "        530,  533,  536,  539,  542,  545,  548,  551,  554,  557,  560,\n",
       "        563,  566,  569,  572,  575,  578,  581,  584,  587,  590,  593,\n",
       "        596,  599,  602,  605,  608,  611,  614,  617,  620,  623,  626,\n",
       "        629,  632,  635,  638,  641,  644,  647,  650,  653,  656,  659,\n",
       "        662,  665,  668,  671,  674,  677,  680,  683,  686,  689,  692,\n",
       "        695,  698,  701,  704,  707,  710,  713,  716,  719,  722,  725,\n",
       "        728,  731,  734,  737,  740,  743,  746,  749,  752,  755,  758,\n",
       "        761,  764,  767,  770,  773,  776,  779,  782,  785,  788,  791,\n",
       "        794,  797,  800,  803,  806,  809,  812,  815,  818,  821,  824,\n",
       "        827,  830,  833,  836,  839,  842,  845,  848,  851,  854,  857,\n",
       "        860,  863,  866,  869,  872,  875,  878,  881,  884,  887,  890,\n",
       "        893,  896,  899,  902,  905,  908,  911,  914,  917,  920,  923,\n",
       "        926,  929,  932,  935,  938,  941,  944,  947,  950,  953,  956,\n",
       "        959,  962,  965,  968,  971,  974,  977,  980,  983,  986,  989,\n",
       "        992,  995,  998, 1001, 1004, 1007, 1010, 1013, 1016, 1019])"
      ]
     },
     "execution_count": 27,
     "metadata": {},
     "output_type": "execute_result"
    }
   ],
   "source": [
    "np.arange(2, 1022, 3)"
   ]
  },
  {
   "cell_type": "code",
   "execution_count": null,
   "metadata": {},
   "outputs": [],
   "source": []
  }
 ],
 "metadata": {
  "kernelspec": {
   "display_name": "Python 3",
   "language": "python",
   "name": "python3"
  },
  "language_info": {
   "codemirror_mode": {
    "name": "ipython",
    "version": 3
   },
   "file_extension": ".py",
   "mimetype": "text/x-python",
   "name": "python",
   "nbconvert_exporter": "python",
   "pygments_lexer": "ipython3",
   "version": "3.8.5"
  }
 },
 "nbformat": 4,
 "nbformat_minor": 2
}
