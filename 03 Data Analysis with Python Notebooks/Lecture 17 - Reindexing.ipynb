{
 "cells": [
  {
   "cell_type": "code",
   "execution_count": 1,
   "metadata": {},
   "outputs": [],
   "source": [
    "import numpy as np\n",
    "import pandas as pd\n",
    "from pandas import Series,DataFrame\n",
    "\n",
    "from numpy.random import randn"
   ]
  },
  {
   "cell_type": "code",
   "execution_count": 2,
   "metadata": {},
   "outputs": [],
   "source": [
    "ser1 = Series([1,2,3,4],index=['A','B','C','D'])"
   ]
  },
  {
   "cell_type": "code",
   "execution_count": 3,
   "metadata": {},
   "outputs": [
    {
     "data": {
      "text/plain": [
       "A    1\n",
       "B    2\n",
       "C    3\n",
       "D    4\n",
       "dtype: int64"
      ]
     },
     "execution_count": 3,
     "metadata": {},
     "output_type": "execute_result"
    }
   ],
   "source": [
    "ser1"
   ]
  },
  {
   "cell_type": "code",
   "execution_count": 4,
   "metadata": {},
   "outputs": [],
   "source": [
    "ser2 = ser1.reindex(['A','B','C','D','E','F'])"
   ]
  },
  {
   "cell_type": "code",
   "execution_count": 5,
   "metadata": {},
   "outputs": [
    {
     "data": {
      "text/plain": [
       "A    1.0\n",
       "B    2.0\n",
       "C    3.0\n",
       "D    4.0\n",
       "E    NaN\n",
       "F    NaN\n",
       "dtype: float64"
      ]
     },
     "execution_count": 5,
     "metadata": {},
     "output_type": "execute_result"
    }
   ],
   "source": [
    "ser2"
   ]
  },
  {
   "cell_type": "code",
   "execution_count": 6,
   "metadata": {},
   "outputs": [
    {
     "data": {
      "text/plain": [
       "A    1.0\n",
       "B    2.0\n",
       "C    3.0\n",
       "D    4.0\n",
       "E    NaN\n",
       "F    NaN\n",
       "G    0.0\n",
       "dtype: float64"
      ]
     },
     "execution_count": 6,
     "metadata": {},
     "output_type": "execute_result"
    }
   ],
   "source": [
    "ser2.reindex(['A','B','C','D','E','F','G'],fill_value=0)"
   ]
  },
  {
   "cell_type": "code",
   "execution_count": 7,
   "metadata": {},
   "outputs": [],
   "source": [
    "ser3 = Series(['USA','Mexico','Canada'],index=[0,5,10])"
   ]
  },
  {
   "cell_type": "code",
   "execution_count": 8,
   "metadata": {},
   "outputs": [
    {
     "data": {
      "text/plain": [
       "0        USA\n",
       "5     Mexico\n",
       "10    Canada\n",
       "dtype: object"
      ]
     },
     "execution_count": 8,
     "metadata": {},
     "output_type": "execute_result"
    }
   ],
   "source": [
    "ser3"
   ]
  },
  {
   "cell_type": "code",
   "execution_count": 9,
   "metadata": {},
   "outputs": [],
   "source": [
    "ranger = range(15)"
   ]
  },
  {
   "cell_type": "code",
   "execution_count": 18,
   "metadata": {},
   "outputs": [
    {
     "data": {
      "text/plain": [
       "range(0, 15)"
      ]
     },
     "execution_count": 18,
     "metadata": {},
     "output_type": "execute_result"
    }
   ],
   "source": [
    "ranger"
   ]
  },
  {
   "cell_type": "code",
   "execution_count": 19,
   "metadata": {},
   "outputs": [
    {
     "data": {
      "text/plain": [
       "0        USA\n",
       "1        USA\n",
       "2        USA\n",
       "3        USA\n",
       "4        USA\n",
       "5     Mexico\n",
       "6     Mexico\n",
       "7     Mexico\n",
       "8     Mexico\n",
       "9     Mexico\n",
       "10    Canada\n",
       "11    Canada\n",
       "12    Canada\n",
       "13    Canada\n",
       "14    Canada\n",
       "dtype: object"
      ]
     },
     "execution_count": 19,
     "metadata": {},
     "output_type": "execute_result"
    }
   ],
   "source": [
    "ser3.reindex(ranger,method=\"ffill\")"
   ]
  },
  {
   "cell_type": "code",
   "execution_count": 20,
   "metadata": {},
   "outputs": [],
   "source": [
    "## ffill = forward fill"
   ]
  },
  {
   "cell_type": "code",
   "execution_count": 21,
   "metadata": {},
   "outputs": [
    {
     "data": {
      "text/html": [
       "<div>\n",
       "<style scoped>\n",
       "    .dataframe tbody tr th:only-of-type {\n",
       "        vertical-align: middle;\n",
       "    }\n",
       "\n",
       "    .dataframe tbody tr th {\n",
       "        vertical-align: top;\n",
       "    }\n",
       "\n",
       "    .dataframe thead th {\n",
       "        text-align: right;\n",
       "    }\n",
       "</style>\n",
       "<table border=\"1\" class=\"dataframe\">\n",
       "  <thead>\n",
       "    <tr style=\"text-align: right;\">\n",
       "      <th></th>\n",
       "      <th>col1</th>\n",
       "      <th>col2</th>\n",
       "      <th>col3</th>\n",
       "      <th>col4</th>\n",
       "      <th>col5</th>\n",
       "    </tr>\n",
       "  </thead>\n",
       "  <tbody>\n",
       "    <tr>\n",
       "      <th>A</th>\n",
       "      <td>-0.105488</td>\n",
       "      <td>-1.213871</td>\n",
       "      <td>-0.894346</td>\n",
       "      <td>-0.565934</td>\n",
       "      <td>0.365401</td>\n",
       "    </tr>\n",
       "    <tr>\n",
       "      <th>B</th>\n",
       "      <td>-1.271321</td>\n",
       "      <td>0.475517</td>\n",
       "      <td>0.965719</td>\n",
       "      <td>-2.573064</td>\n",
       "      <td>-0.608649</td>\n",
       "    </tr>\n",
       "    <tr>\n",
       "      <th>D</th>\n",
       "      <td>-1.092731</td>\n",
       "      <td>-1.402634</td>\n",
       "      <td>0.073849</td>\n",
       "      <td>1.495185</td>\n",
       "      <td>2.257787</td>\n",
       "    </tr>\n",
       "    <tr>\n",
       "      <th>E</th>\n",
       "      <td>0.253233</td>\n",
       "      <td>0.694210</td>\n",
       "      <td>-1.638310</td>\n",
       "      <td>-0.156724</td>\n",
       "      <td>-0.620582</td>\n",
       "    </tr>\n",
       "    <tr>\n",
       "      <th>F</th>\n",
       "      <td>-0.433213</td>\n",
       "      <td>-0.104957</td>\n",
       "      <td>-0.634475</td>\n",
       "      <td>-0.843889</td>\n",
       "      <td>0.312258</td>\n",
       "    </tr>\n",
       "  </tbody>\n",
       "</table>\n",
       "</div>"
      ],
      "text/plain": [
       "       col1      col2      col3      col4      col5\n",
       "A -0.105488 -1.213871 -0.894346 -0.565934  0.365401\n",
       "B -1.271321  0.475517  0.965719 -2.573064 -0.608649\n",
       "D -1.092731 -1.402634  0.073849  1.495185  2.257787\n",
       "E  0.253233  0.694210 -1.638310 -0.156724 -0.620582\n",
       "F -0.433213 -0.104957 -0.634475 -0.843889  0.312258"
      ]
     },
     "execution_count": 21,
     "metadata": {},
     "output_type": "execute_result"
    }
   ],
   "source": [
    "dframe = DataFrame(randn(25).reshape((5,5)),index=['A','B','D','E','F'],columns=['col1','col2','col3','col4','col5'])\n",
    "\n",
    "dframe"
   ]
  },
  {
   "cell_type": "code",
   "execution_count": 22,
   "metadata": {},
   "outputs": [],
   "source": [
    "dframe2 = dframe.reindex(['A','B','C','D','E','F'])"
   ]
  },
  {
   "cell_type": "code",
   "execution_count": 23,
   "metadata": {},
   "outputs": [
    {
     "data": {
      "text/html": [
       "<div>\n",
       "<style scoped>\n",
       "    .dataframe tbody tr th:only-of-type {\n",
       "        vertical-align: middle;\n",
       "    }\n",
       "\n",
       "    .dataframe tbody tr th {\n",
       "        vertical-align: top;\n",
       "    }\n",
       "\n",
       "    .dataframe thead th {\n",
       "        text-align: right;\n",
       "    }\n",
       "</style>\n",
       "<table border=\"1\" class=\"dataframe\">\n",
       "  <thead>\n",
       "    <tr style=\"text-align: right;\">\n",
       "      <th></th>\n",
       "      <th>col1</th>\n",
       "      <th>col2</th>\n",
       "      <th>col3</th>\n",
       "      <th>col4</th>\n",
       "      <th>col5</th>\n",
       "    </tr>\n",
       "  </thead>\n",
       "  <tbody>\n",
       "    <tr>\n",
       "      <th>A</th>\n",
       "      <td>-0.105488</td>\n",
       "      <td>-1.213871</td>\n",
       "      <td>-0.894346</td>\n",
       "      <td>-0.565934</td>\n",
       "      <td>0.365401</td>\n",
       "    </tr>\n",
       "    <tr>\n",
       "      <th>B</th>\n",
       "      <td>-1.271321</td>\n",
       "      <td>0.475517</td>\n",
       "      <td>0.965719</td>\n",
       "      <td>-2.573064</td>\n",
       "      <td>-0.608649</td>\n",
       "    </tr>\n",
       "    <tr>\n",
       "      <th>C</th>\n",
       "      <td>NaN</td>\n",
       "      <td>NaN</td>\n",
       "      <td>NaN</td>\n",
       "      <td>NaN</td>\n",
       "      <td>NaN</td>\n",
       "    </tr>\n",
       "    <tr>\n",
       "      <th>D</th>\n",
       "      <td>-1.092731</td>\n",
       "      <td>-1.402634</td>\n",
       "      <td>0.073849</td>\n",
       "      <td>1.495185</td>\n",
       "      <td>2.257787</td>\n",
       "    </tr>\n",
       "    <tr>\n",
       "      <th>E</th>\n",
       "      <td>0.253233</td>\n",
       "      <td>0.694210</td>\n",
       "      <td>-1.638310</td>\n",
       "      <td>-0.156724</td>\n",
       "      <td>-0.620582</td>\n",
       "    </tr>\n",
       "    <tr>\n",
       "      <th>F</th>\n",
       "      <td>-0.433213</td>\n",
       "      <td>-0.104957</td>\n",
       "      <td>-0.634475</td>\n",
       "      <td>-0.843889</td>\n",
       "      <td>0.312258</td>\n",
       "    </tr>\n",
       "  </tbody>\n",
       "</table>\n",
       "</div>"
      ],
      "text/plain": [
       "       col1      col2      col3      col4      col5\n",
       "A -0.105488 -1.213871 -0.894346 -0.565934  0.365401\n",
       "B -1.271321  0.475517  0.965719 -2.573064 -0.608649\n",
       "C       NaN       NaN       NaN       NaN       NaN\n",
       "D -1.092731 -1.402634  0.073849  1.495185  2.257787\n",
       "E  0.253233  0.694210 -1.638310 -0.156724 -0.620582\n",
       "F -0.433213 -0.104957 -0.634475 -0.843889  0.312258"
      ]
     },
     "execution_count": 23,
     "metadata": {},
     "output_type": "execute_result"
    }
   ],
   "source": [
    "dframe2"
   ]
  },
  {
   "cell_type": "code",
   "execution_count": 24,
   "metadata": {},
   "outputs": [],
   "source": [
    "new_columns = ['col1','col2','col3','col4','col5','col6']"
   ]
  },
  {
   "cell_type": "code",
   "execution_count": 25,
   "metadata": {},
   "outputs": [
    {
     "data": {
      "text/html": [
       "<div>\n",
       "<style scoped>\n",
       "    .dataframe tbody tr th:only-of-type {\n",
       "        vertical-align: middle;\n",
       "    }\n",
       "\n",
       "    .dataframe tbody tr th {\n",
       "        vertical-align: top;\n",
       "    }\n",
       "\n",
       "    .dataframe thead th {\n",
       "        text-align: right;\n",
       "    }\n",
       "</style>\n",
       "<table border=\"1\" class=\"dataframe\">\n",
       "  <thead>\n",
       "    <tr style=\"text-align: right;\">\n",
       "      <th></th>\n",
       "      <th>col1</th>\n",
       "      <th>col2</th>\n",
       "      <th>col3</th>\n",
       "      <th>col4</th>\n",
       "      <th>col5</th>\n",
       "      <th>col6</th>\n",
       "    </tr>\n",
       "  </thead>\n",
       "  <tbody>\n",
       "    <tr>\n",
       "      <th>A</th>\n",
       "      <td>-0.105488</td>\n",
       "      <td>-1.213871</td>\n",
       "      <td>-0.894346</td>\n",
       "      <td>-0.565934</td>\n",
       "      <td>0.365401</td>\n",
       "      <td>NaN</td>\n",
       "    </tr>\n",
       "    <tr>\n",
       "      <th>B</th>\n",
       "      <td>-1.271321</td>\n",
       "      <td>0.475517</td>\n",
       "      <td>0.965719</td>\n",
       "      <td>-2.573064</td>\n",
       "      <td>-0.608649</td>\n",
       "      <td>NaN</td>\n",
       "    </tr>\n",
       "    <tr>\n",
       "      <th>C</th>\n",
       "      <td>NaN</td>\n",
       "      <td>NaN</td>\n",
       "      <td>NaN</td>\n",
       "      <td>NaN</td>\n",
       "      <td>NaN</td>\n",
       "      <td>NaN</td>\n",
       "    </tr>\n",
       "    <tr>\n",
       "      <th>D</th>\n",
       "      <td>-1.092731</td>\n",
       "      <td>-1.402634</td>\n",
       "      <td>0.073849</td>\n",
       "      <td>1.495185</td>\n",
       "      <td>2.257787</td>\n",
       "      <td>NaN</td>\n",
       "    </tr>\n",
       "    <tr>\n",
       "      <th>E</th>\n",
       "      <td>0.253233</td>\n",
       "      <td>0.694210</td>\n",
       "      <td>-1.638310</td>\n",
       "      <td>-0.156724</td>\n",
       "      <td>-0.620582</td>\n",
       "      <td>NaN</td>\n",
       "    </tr>\n",
       "    <tr>\n",
       "      <th>F</th>\n",
       "      <td>-0.433213</td>\n",
       "      <td>-0.104957</td>\n",
       "      <td>-0.634475</td>\n",
       "      <td>-0.843889</td>\n",
       "      <td>0.312258</td>\n",
       "      <td>NaN</td>\n",
       "    </tr>\n",
       "  </tbody>\n",
       "</table>\n",
       "</div>"
      ],
      "text/plain": [
       "       col1      col2      col3      col4      col5  col6\n",
       "A -0.105488 -1.213871 -0.894346 -0.565934  0.365401   NaN\n",
       "B -1.271321  0.475517  0.965719 -2.573064 -0.608649   NaN\n",
       "C       NaN       NaN       NaN       NaN       NaN   NaN\n",
       "D -1.092731 -1.402634  0.073849  1.495185  2.257787   NaN\n",
       "E  0.253233  0.694210 -1.638310 -0.156724 -0.620582   NaN\n",
       "F -0.433213 -0.104957 -0.634475 -0.843889  0.312258   NaN"
      ]
     },
     "execution_count": 25,
     "metadata": {},
     "output_type": "execute_result"
    }
   ],
   "source": [
    "dframe2.reindex(columns=new_columns)"
   ]
  },
  {
   "cell_type": "code",
   "execution_count": 26,
   "metadata": {},
   "outputs": [
    {
     "data": {
      "text/html": [
       "<div>\n",
       "<style scoped>\n",
       "    .dataframe tbody tr th:only-of-type {\n",
       "        vertical-align: middle;\n",
       "    }\n",
       "\n",
       "    .dataframe tbody tr th {\n",
       "        vertical-align: top;\n",
       "    }\n",
       "\n",
       "    .dataframe thead th {\n",
       "        text-align: right;\n",
       "    }\n",
       "</style>\n",
       "<table border=\"1\" class=\"dataframe\">\n",
       "  <thead>\n",
       "    <tr style=\"text-align: right;\">\n",
       "      <th></th>\n",
       "      <th>col1</th>\n",
       "      <th>col2</th>\n",
       "      <th>col3</th>\n",
       "      <th>col4</th>\n",
       "      <th>col5</th>\n",
       "      <th>col6</th>\n",
       "    </tr>\n",
       "  </thead>\n",
       "  <tbody>\n",
       "    <tr>\n",
       "      <th>A</th>\n",
       "      <td>-0.105488</td>\n",
       "      <td>-1.213871</td>\n",
       "      <td>-0.894346</td>\n",
       "      <td>-0.565934</td>\n",
       "      <td>0.365401</td>\n",
       "      <td>NaN</td>\n",
       "    </tr>\n",
       "    <tr>\n",
       "      <th>B</th>\n",
       "      <td>-1.271321</td>\n",
       "      <td>0.475517</td>\n",
       "      <td>0.965719</td>\n",
       "      <td>-2.573064</td>\n",
       "      <td>-0.608649</td>\n",
       "      <td>NaN</td>\n",
       "    </tr>\n",
       "    <tr>\n",
       "      <th>C</th>\n",
       "      <td>NaN</td>\n",
       "      <td>NaN</td>\n",
       "      <td>NaN</td>\n",
       "      <td>NaN</td>\n",
       "      <td>NaN</td>\n",
       "      <td>NaN</td>\n",
       "    </tr>\n",
       "    <tr>\n",
       "      <th>D</th>\n",
       "      <td>-1.092731</td>\n",
       "      <td>-1.402634</td>\n",
       "      <td>0.073849</td>\n",
       "      <td>1.495185</td>\n",
       "      <td>2.257787</td>\n",
       "      <td>NaN</td>\n",
       "    </tr>\n",
       "    <tr>\n",
       "      <th>E</th>\n",
       "      <td>0.253233</td>\n",
       "      <td>0.694210</td>\n",
       "      <td>-1.638310</td>\n",
       "      <td>-0.156724</td>\n",
       "      <td>-0.620582</td>\n",
       "      <td>NaN</td>\n",
       "    </tr>\n",
       "    <tr>\n",
       "      <th>F</th>\n",
       "      <td>-0.433213</td>\n",
       "      <td>-0.104957</td>\n",
       "      <td>-0.634475</td>\n",
       "      <td>-0.843889</td>\n",
       "      <td>0.312258</td>\n",
       "      <td>NaN</td>\n",
       "    </tr>\n",
       "  </tbody>\n",
       "</table>\n",
       "</div>"
      ],
      "text/plain": [
       "       col1      col2      col3      col4      col5  col6\n",
       "A -0.105488 -1.213871 -0.894346 -0.565934  0.365401   NaN\n",
       "B -1.271321  0.475517  0.965719 -2.573064 -0.608649   NaN\n",
       "C       NaN       NaN       NaN       NaN       NaN   NaN\n",
       "D -1.092731 -1.402634  0.073849  1.495185  2.257787   NaN\n",
       "E  0.253233  0.694210 -1.638310 -0.156724 -0.620582   NaN\n",
       "F -0.433213 -0.104957 -0.634475 -0.843889  0.312258   NaN"
      ]
     },
     "execution_count": 26,
     "metadata": {},
     "output_type": "execute_result"
    }
   ],
   "source": [
    "dframe2.reindex(columns=new_columns)"
   ]
  },
  {
   "cell_type": "code",
   "execution_count": 21,
   "metadata": {},
   "outputs": [
    {
     "data": {
      "text/html": [
       "<div>\n",
       "<style scoped>\n",
       "    .dataframe tbody tr th:only-of-type {\n",
       "        vertical-align: middle;\n",
       "    }\n",
       "\n",
       "    .dataframe tbody tr th {\n",
       "        vertical-align: top;\n",
       "    }\n",
       "\n",
       "    .dataframe thead th {\n",
       "        text-align: right;\n",
       "    }\n",
       "</style>\n",
       "<table border=\"1\" class=\"dataframe\">\n",
       "  <thead>\n",
       "    <tr style=\"text-align: right;\">\n",
       "      <th></th>\n",
       "      <th>col1</th>\n",
       "      <th>col2</th>\n",
       "      <th>col3</th>\n",
       "      <th>col4</th>\n",
       "      <th>col5</th>\n",
       "    </tr>\n",
       "  </thead>\n",
       "  <tbody>\n",
       "    <tr>\n",
       "      <th>A</th>\n",
       "      <td>1.075136</td>\n",
       "      <td>3.104814</td>\n",
       "      <td>-0.669309</td>\n",
       "      <td>-0.975515</td>\n",
       "      <td>0.073327</td>\n",
       "    </tr>\n",
       "    <tr>\n",
       "      <th>B</th>\n",
       "      <td>0.383137</td>\n",
       "      <td>0.718532</td>\n",
       "      <td>-0.695935</td>\n",
       "      <td>-0.709268</td>\n",
       "      <td>0.364908</td>\n",
       "    </tr>\n",
       "    <tr>\n",
       "      <th>D</th>\n",
       "      <td>-0.128174</td>\n",
       "      <td>-1.667044</td>\n",
       "      <td>2.047182</td>\n",
       "      <td>-0.890297</td>\n",
       "      <td>-0.485105</td>\n",
       "    </tr>\n",
       "    <tr>\n",
       "      <th>E</th>\n",
       "      <td>1.197239</td>\n",
       "      <td>0.105591</td>\n",
       "      <td>-1.102544</td>\n",
       "      <td>1.386982</td>\n",
       "      <td>0.955729</td>\n",
       "    </tr>\n",
       "    <tr>\n",
       "      <th>F</th>\n",
       "      <td>1.653688</td>\n",
       "      <td>-1.632098</td>\n",
       "      <td>0.611806</td>\n",
       "      <td>-1.105300</td>\n",
       "      <td>-0.862595</td>\n",
       "    </tr>\n",
       "  </tbody>\n",
       "</table>\n",
       "</div>"
      ],
      "text/plain": [
       "       col1      col2      col3      col4      col5\n",
       "A  1.075136  3.104814 -0.669309 -0.975515  0.073327\n",
       "B  0.383137  0.718532 -0.695935 -0.709268  0.364908\n",
       "D -0.128174 -1.667044  2.047182 -0.890297 -0.485105\n",
       "E  1.197239  0.105591 -1.102544  1.386982  0.955729\n",
       "F  1.653688 -1.632098  0.611806 -1.105300 -0.862595"
      ]
     },
     "execution_count": 21,
     "metadata": {},
     "output_type": "execute_result"
    }
   ],
   "source": [
    "dframe"
   ]
  },
  {
   "cell_type": "code",
   "execution_count": 27,
   "metadata": {},
   "outputs": [
    {
     "data": {
      "text/html": [
       "<div>\n",
       "<style scoped>\n",
       "    .dataframe tbody tr th:only-of-type {\n",
       "        vertical-align: middle;\n",
       "    }\n",
       "\n",
       "    .dataframe tbody tr th {\n",
       "        vertical-align: top;\n",
       "    }\n",
       "\n",
       "    .dataframe thead th {\n",
       "        text-align: right;\n",
       "    }\n",
       "</style>\n",
       "<table border=\"1\" class=\"dataframe\">\n",
       "  <thead>\n",
       "    <tr style=\"text-align: right;\">\n",
       "      <th></th>\n",
       "      <th>col1</th>\n",
       "      <th>col2</th>\n",
       "      <th>col3</th>\n",
       "      <th>col4</th>\n",
       "      <th>col5</th>\n",
       "      <th>col6</th>\n",
       "    </tr>\n",
       "  </thead>\n",
       "  <tbody>\n",
       "    <tr>\n",
       "      <th>A</th>\n",
       "      <td>1.075136</td>\n",
       "      <td>3.104814</td>\n",
       "      <td>-0.669309</td>\n",
       "      <td>-0.975515</td>\n",
       "      <td>0.073327</td>\n",
       "      <td>NaN</td>\n",
       "    </tr>\n",
       "    <tr>\n",
       "      <th>B</th>\n",
       "      <td>0.383137</td>\n",
       "      <td>0.718532</td>\n",
       "      <td>-0.695935</td>\n",
       "      <td>-0.709268</td>\n",
       "      <td>0.364908</td>\n",
       "      <td>NaN</td>\n",
       "    </tr>\n",
       "    <tr>\n",
       "      <th>C</th>\n",
       "      <td>NaN</td>\n",
       "      <td>NaN</td>\n",
       "      <td>NaN</td>\n",
       "      <td>NaN</td>\n",
       "      <td>NaN</td>\n",
       "      <td>NaN</td>\n",
       "    </tr>\n",
       "    <tr>\n",
       "      <th>D</th>\n",
       "      <td>-0.128174</td>\n",
       "      <td>-1.667044</td>\n",
       "      <td>2.047182</td>\n",
       "      <td>-0.890297</td>\n",
       "      <td>-0.485105</td>\n",
       "      <td>NaN</td>\n",
       "    </tr>\n",
       "    <tr>\n",
       "      <th>E</th>\n",
       "      <td>1.197239</td>\n",
       "      <td>0.105591</td>\n",
       "      <td>-1.102544</td>\n",
       "      <td>1.386982</td>\n",
       "      <td>0.955729</td>\n",
       "      <td>NaN</td>\n",
       "    </tr>\n",
       "    <tr>\n",
       "      <th>F</th>\n",
       "      <td>1.653688</td>\n",
       "      <td>-1.632098</td>\n",
       "      <td>0.611806</td>\n",
       "      <td>-1.105300</td>\n",
       "      <td>-0.862595</td>\n",
       "      <td>NaN</td>\n",
       "    </tr>\n",
       "  </tbody>\n",
       "</table>\n",
       "</div>"
      ],
      "text/plain": [
       "       col1      col2      col3      col4      col5  col6\n",
       "A  1.075136  3.104814 -0.669309 -0.975515  0.073327   NaN\n",
       "B  0.383137  0.718532 -0.695935 -0.709268  0.364908   NaN\n",
       "C       NaN       NaN       NaN       NaN       NaN   NaN\n",
       "D -0.128174 -1.667044  2.047182 -0.890297 -0.485105   NaN\n",
       "E  1.197239  0.105591 -1.102544  1.386982  0.955729   NaN\n",
       "F  1.653688 -1.632098  0.611806 -1.105300 -0.862595   NaN"
      ]
     },
     "execution_count": 27,
     "metadata": {},
     "output_type": "execute_result"
    }
   ],
   "source": [
    "dframe.loc[['A','B','C','D','E','F'],new_columns]"
   ]
  },
  {
   "cell_type": "code",
   "execution_count": 23,
   "metadata": {},
   "outputs": [
    {
     "data": {
      "text/html": [
       "<div>\n",
       "<style scoped>\n",
       "    .dataframe tbody tr th:only-of-type {\n",
       "        vertical-align: middle;\n",
       "    }\n",
       "\n",
       "    .dataframe tbody tr th {\n",
       "        vertical-align: top;\n",
       "    }\n",
       "\n",
       "    .dataframe thead th {\n",
       "        text-align: right;\n",
       "    }\n",
       "</style>\n",
       "<table border=\"1\" class=\"dataframe\">\n",
       "  <thead>\n",
       "    <tr style=\"text-align: right;\">\n",
       "      <th></th>\n",
       "      <th>col1</th>\n",
       "      <th>col2</th>\n",
       "      <th>col3</th>\n",
       "      <th>col4</th>\n",
       "      <th>col5</th>\n",
       "    </tr>\n",
       "  </thead>\n",
       "  <tbody>\n",
       "    <tr>\n",
       "      <th>A</th>\n",
       "      <td>1.075136</td>\n",
       "      <td>3.104814</td>\n",
       "      <td>-0.669309</td>\n",
       "      <td>-0.975515</td>\n",
       "      <td>0.073327</td>\n",
       "    </tr>\n",
       "    <tr>\n",
       "      <th>B</th>\n",
       "      <td>0.383137</td>\n",
       "      <td>0.718532</td>\n",
       "      <td>-0.695935</td>\n",
       "      <td>-0.709268</td>\n",
       "      <td>0.364908</td>\n",
       "    </tr>\n",
       "    <tr>\n",
       "      <th>D</th>\n",
       "      <td>-0.128174</td>\n",
       "      <td>-1.667044</td>\n",
       "      <td>2.047182</td>\n",
       "      <td>-0.890297</td>\n",
       "      <td>-0.485105</td>\n",
       "    </tr>\n",
       "    <tr>\n",
       "      <th>E</th>\n",
       "      <td>1.197239</td>\n",
       "      <td>0.105591</td>\n",
       "      <td>-1.102544</td>\n",
       "      <td>1.386982</td>\n",
       "      <td>0.955729</td>\n",
       "    </tr>\n",
       "    <tr>\n",
       "      <th>F</th>\n",
       "      <td>1.653688</td>\n",
       "      <td>-1.632098</td>\n",
       "      <td>0.611806</td>\n",
       "      <td>-1.105300</td>\n",
       "      <td>-0.862595</td>\n",
       "    </tr>\n",
       "  </tbody>\n",
       "</table>\n",
       "</div>"
      ],
      "text/plain": [
       "       col1      col2      col3      col4      col5\n",
       "A  1.075136  3.104814 -0.669309 -0.975515  0.073327\n",
       "B  0.383137  0.718532 -0.695935 -0.709268  0.364908\n",
       "D -0.128174 -1.667044  2.047182 -0.890297 -0.485105\n",
       "E  1.197239  0.105591 -1.102544  1.386982  0.955729\n",
       "F  1.653688 -1.632098  0.611806 -1.105300 -0.862595"
      ]
     },
     "execution_count": 23,
     "metadata": {},
     "output_type": "execute_result"
    }
   ],
   "source": [
    "dframe"
   ]
  },
  {
   "cell_type": "code",
   "execution_count": null,
   "metadata": {},
   "outputs": [],
   "source": []
  }
 ],
 "metadata": {
  "kernelspec": {
   "display_name": "Python 3",
   "language": "python",
   "name": "python3"
  },
  "language_info": {
   "codemirror_mode": {
    "name": "ipython",
    "version": 3
   },
   "file_extension": ".py",
   "mimetype": "text/x-python",
   "name": "python",
   "nbconvert_exporter": "python",
   "pygments_lexer": "ipython3",
   "version": "3.8.5"
  }
 },
 "nbformat": 4,
 "nbformat_minor": 2
}
